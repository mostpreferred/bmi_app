{
 "cells": [
  {
   "cell_type": "code",
   "execution_count": 1,
   "id": "231622fe-c1c6-47e3-98f5-5b7bf76e23e8",
   "metadata": {},
   "outputs": [],
   "source": [
    "#importing our streamlit library\n",
    "import streamlit as st"
   ]
  },
  {
   "cell_type": "code",
   "execution_count": 2,
   "id": "63900002-51d6-4ccf-b1cc-64483432420b",
   "metadata": {},
   "outputs": [
    {
     "name": "stderr",
     "output_type": "stream",
     "text": [
      "2025-05-08 00:18:55.936 \n",
      "  \u001b[33m\u001b[1mWarning:\u001b[0m to view this Streamlit app on a browser, run it with the following\n",
      "  command:\n",
      "\n",
      "    streamlit run C:\\Users\\uzond\\anaconda3\\Lib\\site-packages\\ipykernel_launcher.py [ARGUMENTS]\n",
      "2025-05-08 00:18:55.939 Session state does not function when running a script without `streamlit run`\n"
     ]
    }
   ],
   "source": [
    "#bmi calculator------ creating a function called bmi calculator\n",
    "\n",
    "def calculate_bmi(weight,height):\n",
    "    bmi = weight/(height**2)\n",
    "    return bmi\n",
    "\n",
    "\n",
    "st.title(\"BMI calculator\")\n",
    "\n",
    "\n",
    "    \n",
    "weight = st.number_input(\"enter your weight in Kg.\",min_value=1.0)\n",
    "height = st.number_input(\"enter your height in m.\",min_value=0.5,format=\"%.2f\") \n",
    "\n",
    "if st.button(\"Calculate BMI\"):\n",
    "     bmi = calculate_bmi(weight,height)\n",
    "     st.write(f\"Your BMI is:, **{bmi:.2f}**\")\n",
    "   \n",
    "     if  bmi < 18.5:\n",
    "        st.warnimg( \"you are underweight. Improve your nutrition and exercise regularly.\")\n",
    "     elif 18.5 <= bmi < 25:\n",
    "        st.success (\" you are normal. keep being fit and eating healthy.\")\n",
    "     elif 25 <= bmi <30:\n",
    "        st.info( \"you are overweight. give attention to your diet and improve your exercise and rest.\")\n",
    "     else:\n",
    "        st.error( \"you are obese. please consult a nutritionist and physical therapist.\")\n",
    "\n",
    " "
   ]
  },
  {
   "cell_type": "code",
   "execution_count": null,
   "id": "41a13463-b9eb-469f-a685-b165acaeb61d",
   "metadata": {},
   "outputs": [],
   "source": []
  },
  {
   "cell_type": "code",
   "execution_count": null,
   "id": "034d1edc-3383-4c57-ae85-8d9ebe194909",
   "metadata": {},
   "outputs": [],
   "source": [
    "\n",
    "\n"
   ]
  },
  {
   "cell_type": "code",
   "execution_count": null,
   "id": "4eadc10c-0e3f-4269-a1e3-c209bcf65871",
   "metadata": {},
   "outputs": [],
   "source": []
  },
  {
   "cell_type": "code",
   "execution_count": null,
   "id": "a7da72d8-793d-4222-af88-01594d16abc6",
   "metadata": {},
   "outputs": [],
   "source": []
  },
  {
   "cell_type": "code",
   "execution_count": null,
   "id": "065e06c1-5ce6-4f9a-884d-cbe4fa3be3ac",
   "metadata": {},
   "outputs": [],
   "source": []
  },
  {
   "cell_type": "code",
   "execution_count": null,
   "id": "237f0e9d-d1c1-419b-bf12-5628dd1bf585",
   "metadata": {},
   "outputs": [],
   "source": []
  },
  {
   "cell_type": "code",
   "execution_count": null,
   "id": "37793e4e-74ff-487d-a693-9b7a125bd89a",
   "metadata": {},
   "outputs": [],
   "source": []
  },
  {
   "cell_type": "code",
   "execution_count": null,
   "id": "692413cd-ff69-46c1-90c1-a4f1c5a8ca59",
   "metadata": {},
   "outputs": [],
   "source": []
  }
 ],
 "metadata": {
  "kernelspec": {
   "display_name": "Python [conda env:base] *",
   "language": "python",
   "name": "conda-base-py"
  },
  "language_info": {
   "codemirror_mode": {
    "name": "ipython",
    "version": 3
   },
   "file_extension": ".py",
   "mimetype": "text/x-python",
   "name": "python",
   "nbconvert_exporter": "python",
   "pygments_lexer": "ipython3",
   "version": "3.12.7"
  }
 },
 "nbformat": 4,
 "nbformat_minor": 5
}
